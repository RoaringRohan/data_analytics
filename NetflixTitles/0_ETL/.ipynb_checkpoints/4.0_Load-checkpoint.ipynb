{
 "cells": [
  {
   "cell_type": "code",
   "execution_count": 1,
   "id": "3eb680d3-646b-417f-b66a-17819b5a3c1f",
   "metadata": {},
   "outputs": [],
   "source": [
    "import pandas as pd\n",
    "import os\n",
    "from dotenv import load_dotenv\n",
    "import mysql.connector"
   ]
  },
  {
   "cell_type": "code",
   "execution_count": 2,
   "id": "e1191d3f-554c-48bc-baad-92f65a3b49c8",
   "metadata": {},
   "outputs": [
    {
     "data": {
      "text/plain": [
       "True"
      ]
     },
     "execution_count": 2,
     "metadata": {},
     "output_type": "execute_result"
    }
   ],
   "source": [
    "load_dotenv()"
   ]
  },
  {
   "cell_type": "code",
   "execution_count": 3,
   "id": "b5d5e92b-1f15-481b-99e3-8d647bdf2040",
   "metadata": {},
   "outputs": [],
   "source": [
    "configuration = {\n",
    "    'user' : os.getenv('user'),\n",
    "    'password' : os.getenv('password'),\n",
    "    'host' : os.getenv('host'),\n",
    "    'database' : 'information_schema',\n",
    "    'raise_on_warnings' : True\n",
    "}"
   ]
  },
  {
   "cell_type": "code",
   "execution_count": 4,
   "id": "b66ad1f1-69f1-450f-8615-d1801a07a149",
   "metadata": {},
   "outputs": [
    {
     "name": "stdout",
     "output_type": "stream",
     "text": [
      "Schema netflix_titles created.\n"
     ]
    }
   ],
   "source": [
    "try:\n",
    "    connection = mysql.connector.connect(**configuration)\n",
    "    cursor = connection.cursor()\n",
    "\n",
    "    cursor.execute(\"SELECT SCHEMA_NAME FROM SCHEMATA WHERE SCHEMA_NAME = 'netflix_titles';\")\n",
    "    schema_exists = cursor.fetchone()\n",
    "\n",
    "    if not schema_exists:\n",
    "        cursor.execute(\"CREATE SCHEMA netflix_titles;\")\n",
    "        print(\"Schema netflix_titles created.\")\n",
    "\n",
    "        cursor.execute(\"USE netflix_titles;\")\n",
    "\n",
    "    else:\n",
    "        print(\"Schema already exists.\")\n",
    "\n",
    "    cursor.close()\n",
    "    connection.close()\n",
    "\n",
    "except mysql.connector.Error as err:\n",
    "    if err.errno == errorcode.ER_ACCESS_DENIED_ERROR:\n",
    "        print(\"Something is wrong with your user name or password\")\n",
    "    elif err.errno == errorcode.ER_BAD_DB_ERROR:\n",
    "        print(\"Database does not exist\")\n",
    "    else:\n",
    "        print(err)\n",
    "else:\n",
    "    connection.close()"
   ]
  },
  {
   "cell_type": "code",
   "execution_count": 5,
   "id": "ab6bdd47-8f65-4e9a-8f1a-9c8b396acae8",
   "metadata": {},
   "outputs": [
    {
     "name": "stdout",
     "output_type": "stream",
     "text": [
      "The 'titles' table has been created.\n"
     ]
    }
   ],
   "source": [
    "try:\n",
    "    connection = mysql.connector.connect(**configuration)\n",
    "    cursor = connection.cursor()\n",
    "    \n",
    "    cursor.execute(\"\"\"\n",
    "                    SELECT EXISTS (\n",
    "                    SELECT TABLE_NAME\n",
    "                    FROM information_schema.TABLES\n",
    "                    WHERE TABLE_SCHEMA LIKE 'netflix_titles' AND TABLE_TYPE LIKE 'BASE TABLE' AND TABLE_NAME = 'titles');\n",
    "                \"\"\")\n",
    "    table_exists = cursor.fetchone()[0]\n",
    "    \n",
    "    if not table_exists:\n",
    "        cursor.execute(\"USE netflix_titles;\")\n",
    "        cursor.execute(\"\"\"\n",
    "                    CREATE TABLE titles (\n",
    "                    titles_id INT AUTO_INCREMENT PRIMARY KEY,\n",
    "                    type VARCHAR(255) NOT NULL,\n",
    "                    title VARCHAR(255) NOT NULL,\n",
    "                    release_year YEAR,\n",
    "                    date_added DATE,\n",
    "                    rating VARCHAR(50),\n",
    "                    duration VARCHAR(50)\n",
    "                    );\n",
    "                \"\"\")\n",
    "        print(\"The 'titles' table has been created.\")\n",
    "        \n",
    "    else:\n",
    "        print(\"The 'titles' table already exists.\")\n",
    "\n",
    "    cursor.close()\n",
    "    connection.close()\n",
    "\n",
    "except mysql.connector.Error as err:\n",
    "    if err.errno == errorcode.ER_ACCESS_DENIED_ERROR:\n",
    "        print(\"Something is wrong with your user name or password\")\n",
    "    elif err.errno == errorcode.ER_BAD_DB_ERROR:\n",
    "        print(\"Database does not exist\")\n",
    "    else:\n",
    "        print(err)\n",
    "else:\n",
    "    connection.close()"
   ]
  },
  {
   "cell_type": "code",
   "execution_count": 6,
   "id": "780f75ec-9b6d-4449-935a-feaf93e9e9f0",
   "metadata": {},
   "outputs": [
    {
     "name": "stdout",
     "output_type": "stream",
     "text": [
      "The 'directors' table has been created.\n"
     ]
    }
   ],
   "source": [
    "try:\n",
    "    connection = mysql.connector.connect(**configuration)\n",
    "    cursor = connection.cursor()\n",
    "    \n",
    "    cursor.execute(\"\"\"\n",
    "                    SELECT EXISTS (\n",
    "                    SELECT TABLE_NAME\n",
    "                    FROM information_schema.TABLES\n",
    "                    WHERE TABLE_SCHEMA LIKE 'netflix_titles' AND TABLE_TYPE LIKE 'BASE TABLE' AND TABLE_NAME = 'directors');\n",
    "                \"\"\")\n",
    "    table_exists = cursor.fetchone()[0]\n",
    "    \n",
    "    if not table_exists:\n",
    "        cursor.execute(\"USE netflix_titles;\")\n",
    "        cursor.execute(\"\"\"\n",
    "                    CREATE TABLE directors (\n",
    "                    director_id INT AUTO_INCREMENT PRIMARY KEY,\n",
    "                    title VARCHAR(255) NOT NULL,\n",
    "                    director VARCHAR(255) NOT NULL\n",
    "                    );\n",
    "                \"\"\")\n",
    "        print(\"The 'directors' table has been created.\")\n",
    "        \n",
    "    else:\n",
    "        print(\"The 'directors' table already exists.\")\n",
    "\n",
    "    cursor.close()\n",
    "    connection.close()\n",
    "\n",
    "except mysql.connector.Error as err:\n",
    "    if err.errno == errorcode.ER_ACCESS_DENIED_ERROR:\n",
    "        print(\"Something is wrong with your user name or password\")\n",
    "    elif err.errno == errorcode.ER_BAD_DB_ERROR:\n",
    "        print(\"Database does not exist\")\n",
    "    else:\n",
    "        print(err)\n",
    "else:\n",
    "    connection.close()"
   ]
  },
  {
   "cell_type": "code",
   "execution_count": 7,
   "id": "14e850cc-c8bd-482e-8964-2419b29c2dcf",
   "metadata": {},
   "outputs": [
    {
     "name": "stdout",
     "output_type": "stream",
     "text": [
      "The 'cast' table has been created.\n"
     ]
    }
   ],
   "source": [
    "try:\n",
    "    connection = mysql.connector.connect(**configuration)\n",
    "    cursor = connection.cursor()\n",
    "    \n",
    "    cursor.execute(\"\"\"\n",
    "                    SELECT EXISTS (\n",
    "                    SELECT TABLE_NAME\n",
    "                    FROM information_schema.TABLES\n",
    "                    WHERE TABLE_SCHEMA LIKE 'netflix_titles' AND TABLE_TYPE LIKE 'BASE TABLE' AND TABLE_NAME = 'cast');\n",
    "                \"\"\")\n",
    "    table_exists = cursor.fetchone()[0]\n",
    "    \n",
    "    if not table_exists:\n",
    "        cursor.execute(\"USE netflix_titles;\")\n",
    "        cursor.execute(\"\"\"\n",
    "                    CREATE TABLE cast (\n",
    "                    cast_id INT AUTO_INCREMENT PRIMARY KEY,\n",
    "                    title VARCHAR(255) NOT NULL,\n",
    "                    actor VARCHAR(255) NOT NULL\n",
    "                    );\n",
    "                \"\"\")\n",
    "        print(\"The 'cast' table has been created.\")\n",
    "        \n",
    "    else:\n",
    "        print(\"The 'cast' table already exists.\")\n",
    "\n",
    "    cursor.close()\n",
    "    connection.close()\n",
    "\n",
    "except mysql.connector.Error as err:\n",
    "    if err.errno == errorcode.ER_ACCESS_DENIED_ERROR:\n",
    "        print(\"Something is wrong with your user name or password\")\n",
    "    elif err.errno == errorcode.ER_BAD_DB_ERROR:\n",
    "        print(\"Database does not exist\")\n",
    "    else:\n",
    "        print(err)\n",
    "else:\n",
    "    connection.close()"
   ]
  },
  {
   "cell_type": "code",
   "execution_count": 8,
   "id": "5a30367e-c516-4d3c-bfbf-47fb3ccc12ac",
   "metadata": {},
   "outputs": [
    {
     "name": "stdout",
     "output_type": "stream",
     "text": [
      "The 'countries' table has been created.\n"
     ]
    }
   ],
   "source": [
    "try:\n",
    "    connection = mysql.connector.connect(**configuration)\n",
    "    cursor = connection.cursor()\n",
    "    \n",
    "    cursor.execute(\"\"\"\n",
    "                    SELECT EXISTS (\n",
    "                    SELECT TABLE_NAME\n",
    "                    FROM information_schema.TABLES\n",
    "                    WHERE TABLE_SCHEMA LIKE 'netflix_titles' AND TABLE_TYPE LIKE 'BASE TABLE' AND TABLE_NAME = 'countries');\n",
    "                \"\"\")\n",
    "    table_exists = cursor.fetchone()[0]\n",
    "    \n",
    "    if not table_exists:\n",
    "        cursor.execute(\"USE netflix_titles;\")\n",
    "        cursor.execute(\"\"\"\n",
    "                    CREATE TABLE countries (\n",
    "                    country_id INT AUTO_INCREMENT PRIMARY KEY,\n",
    "                    title VARCHAR(255) NOT NULL,\n",
    "                    country VARCHAR(255) NOT NULL\n",
    "                    );\n",
    "                \"\"\")\n",
    "        print(\"The 'countries' table has been created.\")\n",
    "        \n",
    "    else:\n",
    "        print(\"The 'countries' table already exists.\")\n",
    "\n",
    "    cursor.close()\n",
    "    connection.close()\n",
    "\n",
    "except mysql.connector.Error as err:\n",
    "    if err.errno == errorcode.ER_ACCESS_DENIED_ERROR:\n",
    "        print(\"Something is wrong with your user name or password\")\n",
    "    elif err.errno == errorcode.ER_BAD_DB_ERROR:\n",
    "        print(\"Database does not exist\")\n",
    "    else:\n",
    "        print(err)\n",
    "else:\n",
    "    connection.close()"
   ]
  },
  {
   "cell_type": "code",
   "execution_count": 9,
   "id": "6c6d7c1d-5ed8-4c67-8947-7e93a44cdab6",
   "metadata": {},
   "outputs": [
    {
     "name": "stdout",
     "output_type": "stream",
     "text": [
      "The 'genres' table has been created.\n"
     ]
    }
   ],
   "source": [
    "try:\n",
    "    connection = mysql.connector.connect(**configuration)\n",
    "    cursor = connection.cursor()\n",
    "    \n",
    "    cursor.execute(\"\"\"\n",
    "                    SELECT EXISTS (\n",
    "                    SELECT TABLE_NAME\n",
    "                    FROM information_schema.TABLES\n",
    "                    WHERE TABLE_SCHEMA LIKE 'netflix_titles' AND TABLE_TYPE LIKE 'BASE TABLE' AND TABLE_NAME = 'genres');\n",
    "                \"\"\")\n",
    "    table_exists = cursor.fetchone()[0]\n",
    "    \n",
    "    if not table_exists:\n",
    "        cursor.execute(\"USE netflix_titles;\")\n",
    "        cursor.execute(\"\"\"\n",
    "                    CREATE TABLE genres (\n",
    "                    genre_id INT AUTO_INCREMENT PRIMARY KEY,\n",
    "                    title VARCHAR(255) NOT NULL,\n",
    "                    genre VARCHAR(255) NOT NULL\n",
    "                    );\n",
    "                \"\"\")\n",
    "        print(\"The 'genres' table has been created.\")\n",
    "        \n",
    "    else:\n",
    "        print(\"The 'genres' table already exists.\")\n",
    "\n",
    "    cursor.close()\n",
    "    connection.close()\n",
    "\n",
    "except mysql.connector.Error as err:\n",
    "    if err.errno == errorcode.ER_ACCESS_DENIED_ERROR:\n",
    "        print(\"Something is wrong with your user name or password\")\n",
    "    elif err.errno == errorcode.ER_BAD_DB_ERROR:\n",
    "        print(\"Database does not exist\")\n",
    "    else:\n",
    "        print(err)\n",
    "else:\n",
    "    connection.close()"
   ]
  },
  {
   "cell_type": "code",
   "execution_count": 10,
   "id": "e9069042-fd8c-45ba-a40d-f9626385a682",
   "metadata": {},
   "outputs": [],
   "source": [
    "df_titles = pd.read_csv('../1_Data/transformed_titles_dataset.csv')"
   ]
  },
  {
   "cell_type": "code",
   "execution_count": 11,
   "id": "f1ca2344-e5f1-4e8c-9936-9d8f691a4f05",
   "metadata": {},
   "outputs": [
    {
     "name": "stdout",
     "output_type": "stream",
     "text": [
      "transformed_titles_dataset.csv inserted into MySQL successfully.\n"
     ]
    }
   ],
   "source": [
    "try:\n",
    "    connection = mysql.connector.connect(**configuration)\n",
    "    cursor = connection.cursor()\n",
    "\n",
    "    cursor.execute(\"USE netflix_titles;\")\n",
    "    \n",
    "    insert_stmt = \"\"\"\n",
    "        INSERT INTO titles (type, title, release_year, date_added, rating, duration)\n",
    "        VALUES (%s, %s, %s, %s, %s, %s)\n",
    "    \"\"\"\n",
    "\n",
    "    # Iterate through the DataFrame and insert each row\n",
    "    for _, row in df_titles.iterrows():\n",
    "        cursor.execute(insert_stmt, tuple(row))\n",
    "\n",
    "    # Commit the transaction\n",
    "    connection.commit()\n",
    "\n",
    "    print(\"transformed_titles_dataset.csv inserted into MySQL successfully.\")\n",
    "\n",
    "    cursor.close()\n",
    "    connection.close()\n",
    "\n",
    "except mysql.connector.Error as err:\n",
    "    if err.errno == errorcode.ER_ACCESS_DENIED_ERROR:\n",
    "        print(\"Something is wrong with your user name or password\")\n",
    "    elif err.errno == errorcode.ER_BAD_DB_ERROR:\n",
    "        print(\"Database does not exist\")\n",
    "    else:\n",
    "        print(err)\n",
    "else:\n",
    "    connection.close()"
   ]
  },
  {
   "cell_type": "code",
   "execution_count": 12,
   "id": "61953efd-783c-4970-8773-c8bac375042d",
   "metadata": {},
   "outputs": [],
   "source": [
    "df_directors = pd.read_csv('../1_Data/transformed_directors_dataset.csv')"
   ]
  },
  {
   "cell_type": "code",
   "execution_count": 13,
   "id": "19b7842f-cae0-4c4d-b5a4-6e0f77346f43",
   "metadata": {},
   "outputs": [
    {
     "name": "stdout",
     "output_type": "stream",
     "text": [
      "transformed_directors_dataset.csv inserted into MySQL successfully.\n"
     ]
    }
   ],
   "source": [
    "try:\n",
    "    connection = mysql.connector.connect(**configuration)\n",
    "    cursor = connection.cursor()\n",
    "\n",
    "    cursor.execute(\"USE netflix_titles;\")\n",
    "    \n",
    "    insert_stmt = \"\"\"\n",
    "        INSERT INTO directors (title, director)\n",
    "        VALUES (%s, %s)\n",
    "    \"\"\"\n",
    "\n",
    "    # Iterate through the DataFrame and insert each row\n",
    "    for _, row in df_directors.iterrows():\n",
    "        cursor.execute(insert_stmt, tuple(row))\n",
    "\n",
    "    # Commit the transaction\n",
    "    connection.commit()\n",
    "\n",
    "    print(\"transformed_directors_dataset.csv inserted into MySQL successfully.\")\n",
    "\n",
    "    cursor.close()\n",
    "    connection.close()\n",
    "\n",
    "except mysql.connector.Error as err:\n",
    "    if err.errno == errorcode.ER_ACCESS_DENIED_ERROR:\n",
    "        print(\"Something is wrong with your user name or password\")\n",
    "    elif err.errno == errorcode.ER_BAD_DB_ERROR:\n",
    "        print(\"Database does not exist\")\n",
    "    else:\n",
    "        print(err)\n",
    "else:\n",
    "    connection.close()"
   ]
  },
  {
   "cell_type": "code",
   "execution_count": 14,
   "id": "0a48ebad-8520-4252-891a-f46f8794fdfa",
   "metadata": {},
   "outputs": [],
   "source": [
    "df_cast = pd.read_csv('../1_Data/transformed_cast_dataset.csv')"
   ]
  },
  {
   "cell_type": "code",
   "execution_count": 15,
   "id": "160999f1-144a-4373-9f66-ea62ca26a3e9",
   "metadata": {},
   "outputs": [
    {
     "name": "stdout",
     "output_type": "stream",
     "text": [
      "transformed_cast_dataset.csv inserted into MySQL successfully.\n"
     ]
    }
   ],
   "source": [
    "try:\n",
    "    connection = mysql.connector.connect(**configuration)\n",
    "    cursor = connection.cursor()\n",
    "\n",
    "    cursor.execute(\"USE netflix_titles;\")\n",
    "    \n",
    "    insert_stmt = \"\"\"\n",
    "        INSERT INTO cast (title, actor)\n",
    "        VALUES (%s, %s)\n",
    "    \"\"\"\n",
    "\n",
    "    # Iterate through the DataFrame and insert each row\n",
    "    for _, row in df_cast.iterrows():\n",
    "        cursor.execute(insert_stmt, tuple(row))\n",
    "\n",
    "    # Commit the transaction\n",
    "    connection.commit()\n",
    "\n",
    "    print(\"transformed_cast_dataset.csv inserted into MySQL successfully.\")\n",
    "\n",
    "    cursor.close()\n",
    "    connection.close()\n",
    "\n",
    "except mysql.connector.Error as err:\n",
    "    if err.errno == errorcode.ER_ACCESS_DENIED_ERROR:\n",
    "        print(\"Something is wrong with your user name or password\")\n",
    "    elif err.errno == errorcode.ER_BAD_DB_ERROR:\n",
    "        print(\"Database does not exist\")\n",
    "    else:\n",
    "        print(err)\n",
    "else:\n",
    "    connection.close()"
   ]
  },
  {
   "cell_type": "code",
   "execution_count": 16,
   "id": "324a86e6-5621-4db9-885b-7fff81ded2bc",
   "metadata": {},
   "outputs": [],
   "source": [
    "df_countries = pd.read_csv('../1_Data/transformed_countries_dataset.csv')"
   ]
  },
  {
   "cell_type": "code",
   "execution_count": 17,
   "id": "6a3c9147-3a8c-437d-b284-24828870a007",
   "metadata": {},
   "outputs": [
    {
     "name": "stdout",
     "output_type": "stream",
     "text": [
      "transformed_countries_dataset.csv inserted into MySQL successfully.\n"
     ]
    }
   ],
   "source": [
    "try:\n",
    "    connection = mysql.connector.connect(**configuration)\n",
    "    cursor = connection.cursor()\n",
    "\n",
    "    cursor.execute(\"USE netflix_titles;\")\n",
    "    \n",
    "    insert_stmt = \"\"\"\n",
    "        INSERT INTO countries (title, country)\n",
    "        VALUES (%s, %s)\n",
    "    \"\"\"\n",
    "\n",
    "    # Iterate through the DataFrame and insert each row\n",
    "    for _, row in df_countries.iterrows():\n",
    "        cursor.execute(insert_stmt, tuple(row))\n",
    "\n",
    "    # Commit the transaction\n",
    "    connection.commit()\n",
    "\n",
    "    print(\"transformed_countries_dataset.csv inserted into MySQL successfully.\")\n",
    "\n",
    "    cursor.close()\n",
    "    connection.close()\n",
    "\n",
    "except mysql.connector.Error as err:\n",
    "    if err.errno == errorcode.ER_ACCESS_DENIED_ERROR:\n",
    "        print(\"Something is wrong with your user name or password\")\n",
    "    elif err.errno == errorcode.ER_BAD_DB_ERROR:\n",
    "        print(\"Database does not exist\")\n",
    "    else:\n",
    "        print(err)\n",
    "else:\n",
    "    connection.close()"
   ]
  },
  {
   "cell_type": "code",
   "execution_count": 18,
   "id": "682d9cef-fa1b-418e-b274-9990f6f7669c",
   "metadata": {},
   "outputs": [],
   "source": [
    "df_genres = pd.read_csv('../1_Data/transformed_genres_dataset.csv')"
   ]
  },
  {
   "cell_type": "code",
   "execution_count": 19,
   "id": "ff739aa8-b56e-4090-b90c-fdde6be24f6e",
   "metadata": {},
   "outputs": [
    {
     "name": "stdout",
     "output_type": "stream",
     "text": [
      "transformed_genres_dataset.csv inserted into MySQL successfully.\n"
     ]
    }
   ],
   "source": [
    "try:\n",
    "    connection = mysql.connector.connect(**configuration)\n",
    "    cursor = connection.cursor()\n",
    "\n",
    "    cursor.execute(\"USE netflix_titles;\")\n",
    "    \n",
    "    insert_stmt = \"\"\"\n",
    "        INSERT INTO genres (title, genre)\n",
    "        VALUES (%s, %s)\n",
    "    \"\"\"\n",
    "\n",
    "    # Iterate through the DataFrame and insert each row\n",
    "    for _, row in df_genres.iterrows():\n",
    "        cursor.execute(insert_stmt, tuple(row))\n",
    "\n",
    "    # Commit the transaction\n",
    "    connection.commit()\n",
    "\n",
    "    print(\"transformed_genres_dataset.csv inserted into MySQL successfully.\")\n",
    "\n",
    "    cursor.close()\n",
    "    connection.close()\n",
    "\n",
    "except mysql.connector.Error as err:\n",
    "    if err.errno == errorcode.ER_ACCESS_DENIED_ERROR:\n",
    "        print(\"Something is wrong with your user name or password\")\n",
    "    elif err.errno == errorcode.ER_BAD_DB_ERROR:\n",
    "        print(\"Database does not exist\")\n",
    "    else:\n",
    "        print(err)\n",
    "else:\n",
    "    connection.close()"
   ]
  }
 ],
 "metadata": {
  "kernelspec": {
   "display_name": "Python 3 (ipykernel)",
   "language": "python",
   "name": "python3"
  },
  "language_info": {
   "codemirror_mode": {
    "name": "ipython",
    "version": 3
   },
   "file_extension": ".py",
   "mimetype": "text/x-python",
   "name": "python",
   "nbconvert_exporter": "python",
   "pygments_lexer": "ipython3",
   "version": "3.11.2"
  }
 },
 "nbformat": 4,
 "nbformat_minor": 5
}
